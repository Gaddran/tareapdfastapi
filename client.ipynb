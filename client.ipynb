{
 "cells": [
  {
   "cell_type": "code",
   "execution_count": null,
   "id": "b0bf2764",
   "metadata": {},
   "outputs": [
    {
     "name": "stdout",
     "output_type": "stream",
     "text": [
      "Caso de prueba 1: Entrada: {'pickup_weekday': 1, 'pickup_hour': 8, 'work_hours': 1.0, 'pickup_minute': 15, 'passenger_count': 2, 'trip_distance': 3.2, 'trip_time': 12.5, 'trip_speed': 15.4, 'PULocationID': 41, 'DOLocationID': 151, 'RatecodeID': 1.0}\n",
      "Respuesta: 200 {'prediction': 0.37767741792810133}\n",
      "\n",
      "Caso de prueba 2: Entrada: {'pickup_weekday': 5, 'pickup_hour': 18, 'work_hours': 0.0, 'pickup_minute': 45, 'passenger_count': 1, 'trip_distance': 7.8, 'trip_time': 25.0, 'trip_speed': 18.7, 'PULocationID': 236, 'DOLocationID': 162, 'RatecodeID': 2.0}\n",
      "Respuesta: 200 {'prediction': 0.37146922042771385}\n",
      "\n",
      "Caso de prueba 3: Entrada: {'pickup_weekday': 2, 'pickup_hour': 13, 'work_hours': 5.0, 'pickup_minute': 59, 'passenger_count': 4, 'trip_distance': 2.5, 'trip_time': 1.1, 'trip_speed': 105.0, 'PULocationID': 1302, 'DOLocationID': 408, 'RatecodeID': 5.0}\n",
      "Respuesta: 200 {'prediction': 0.5229418834212454}\n",
      "\n"
     ]
    }
   ],
   "source": [
    "import requests\n",
    "\n",
    "# URL of the prediction endpoint\n",
    "#PREDICT_URL = \"http://127.0.0.1:8000//predict\"\n",
    "PREDICT_URL = \"https://tareapdfastapi.onrender.com/predict\"\n",
    "\n",
    "# Example payloads to test\n",
    "test_inputs = [\n",
    "        {\n",
    "            \"pickup_weekday\": 1,\n",
    "            \"pickup_hour\": 8,\n",
    "            \"work_hours\": 1.0,\n",
    "            \"pickup_minute\": 15,\n",
    "            \"passenger_count\": 2,\n",
    "            \"trip_distance\": 3.2,\n",
    "            \"trip_time\": 12.5,\n",
    "            \"trip_speed\": 15.4,\n",
    "            \"PULocationID\": 41,\n",
    "            \"DOLocationID\": 151,\n",
    "            \"RatecodeID\": 1.0\n",
    "        },\n",
    "        {\n",
    "            \"pickup_weekday\": 5,\n",
    "            \"pickup_hour\": 18,\n",
    "            \"work_hours\": 0.0,\n",
    "            \"pickup_minute\": 45,\n",
    "            \"passenger_count\": 1,\n",
    "            \"trip_distance\": 7.8,\n",
    "            \"trip_time\": 25.0,\n",
    "            \"trip_speed\": 18.7,\n",
    "            \"PULocationID\": 236,\n",
    "            \"DOLocationID\": 162,\n",
    "            \"RatecodeID\": 2.0\n",
    "        },\n",
    "        {\n",
    "            \"pickup_weekday\": 2,\n",
    "            \"pickup_hour\": 13,\n",
    "            \"work_hours\": 5.0,\n",
    "            \"pickup_minute\": 59,\n",
    "            \"passenger_count\": 4,\n",
    "            \"trip_distance\": 2.5,\n",
    "            \"trip_time\": 1.10,\n",
    "            \"trip_speed\": 105.0,\n",
    "            \"PULocationID\": 1302,\n",
    "            \"DOLocationID\": 408,\n",
    "            \"RatecodeID\": 5.0\n",
    "        }\n",
    "    ]\n",
    "\n",
    "for i, payload in enumerate(test_inputs):\n",
    "    response = requests.post(PREDICT_URL, json=payload)\n",
    "    print(f\"Caso de prueba {i+1}: Entrada: {payload}\")\n",
    "    print(f\"Respuesta: {response.status_code} {response.json()}\\n\")\n",
    "\n",
    "\n",
    "    "
   ]
  }
 ],
 "metadata": {
  "kernelspec": {
   "display_name": ".venv",
   "language": "python",
   "name": "python3"
  },
  "language_info": {
   "codemirror_mode": {
    "name": "ipython",
    "version": 3
   },
   "file_extension": ".py",
   "mimetype": "text/x-python",
   "name": "python",
   "nbconvert_exporter": "python",
   "pygments_lexer": "ipython3",
   "version": "3.11.9"
  }
 },
 "nbformat": 4,
 "nbformat_minor": 5
}
